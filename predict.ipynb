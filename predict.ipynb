{
 "cells": [
  {
   "cell_type": "code",
   "execution_count": 1,
   "metadata": {},
   "outputs": [],
   "source": [
    "import pandas as pd\n",
    "import numpy as np\n",
    "import tensorflow as tf\n",
    "import matplotlib.pyplot as plt\n",
    "import matplotlib.ticker as mticker\n",
    "import akshare as ak"
   ]
  },
  {
   "cell_type": "code",
   "execution_count": null,
   "metadata": {},
   "outputs": [],
   "source": [
    "stock_zh_a_daily_hfq_df = ak.stock_zh_a_daily(symbol=\"sh600582\", adjust=\"hfq\")\n",
    "stock_zh_a_daily_hfq_df.to_csv('gupiao.csv')\n",
    "print(stock_zh_a_daily_hfq_df)"
   ]
  },
  {
   "cell_type": "markdown",
   "metadata": {},
   "source": [
    " ## 我们先看看数据有哪些列，然后将日期作为索引并且去掉索引列"
   ]
  },
  {
   "cell_type": "code",
   "execution_count": 2,
   "metadata": {},
   "outputs": [
    {
     "ename": "FileNotFoundError",
     "evalue": "[Errno 2] File gupiao.csv does not exist: 'gupiao.csv'",
     "output_type": "error",
     "traceback": [
      "\u001b[1;31m---------------------------------------------------------------------------\u001b[0m",
      "\u001b[1;31mFileNotFoundError\u001b[0m                         Traceback (most recent call last)",
      "\u001b[1;32m<ipython-input-2-2aa242ba85bc>\u001b[0m in \u001b[0;36m<module>\u001b[1;34m\u001b[0m\n\u001b[1;32m----> 1\u001b[1;33m \u001b[0mdf\u001b[0m \u001b[1;33m=\u001b[0m \u001b[0mpd\u001b[0m\u001b[1;33m.\u001b[0m\u001b[0mread_csv\u001b[0m\u001b[1;33m(\u001b[0m\u001b[1;34m'gupiao.csv'\u001b[0m\u001b[1;33m)\u001b[0m\u001b[1;33m\u001b[0m\u001b[0m\n\u001b[0m\u001b[0;32m      2\u001b[0m \u001b[0mcolumns\u001b[0m \u001b[1;33m=\u001b[0m \u001b[0mdf\u001b[0m\u001b[1;33m.\u001b[0m\u001b[0mcolumns\u001b[0m\u001b[1;33m\u001b[0m\u001b[0m\n\u001b[0;32m      3\u001b[0m \u001b[0mprint\u001b[0m\u001b[1;33m(\u001b[0m\u001b[0mcolumns\u001b[0m\u001b[1;33m)\u001b[0m\u001b[1;33m\u001b[0m\u001b[0m\n\u001b[0;32m      4\u001b[0m \u001b[0mdf\u001b[0m \u001b[1;33m=\u001b[0m \u001b[0mdf\u001b[0m\u001b[1;33m.\u001b[0m\u001b[0mset_index\u001b[0m\u001b[1;33m(\u001b[0m\u001b[0mdf\u001b[0m\u001b[1;33m[\u001b[0m\u001b[1;34m'date'\u001b[0m\u001b[1;33m]\u001b[0m\u001b[1;33m)\u001b[0m\u001b[1;33m.\u001b[0m\u001b[0mdrop\u001b[0m\u001b[1;33m(\u001b[0m\u001b[0mcolumns\u001b[0m\u001b[1;33m=\u001b[0m\u001b[1;33m[\u001b[0m\u001b[1;34m'date'\u001b[0m\u001b[1;33m]\u001b[0m\u001b[1;33m)\u001b[0m\u001b[1;33m\u001b[0m\u001b[0m\n",
      "\u001b[1;32mD:\\python 37\\lib\\site-packages\\pandas\\io\\parsers.py\u001b[0m in \u001b[0;36mparser_f\u001b[1;34m(filepath_or_buffer, sep, delimiter, header, names, index_col, usecols, squeeze, prefix, mangle_dupe_cols, dtype, engine, converters, true_values, false_values, skipinitialspace, skiprows, skipfooter, nrows, na_values, keep_default_na, na_filter, verbose, skip_blank_lines, parse_dates, infer_datetime_format, keep_date_col, date_parser, dayfirst, cache_dates, iterator, chunksize, compression, thousands, decimal, lineterminator, quotechar, quoting, doublequote, escapechar, comment, encoding, dialect, error_bad_lines, warn_bad_lines, delim_whitespace, low_memory, memory_map, float_precision)\u001b[0m\n\u001b[0;32m    674\u001b[0m         )\n\u001b[0;32m    675\u001b[0m \u001b[1;33m\u001b[0m\u001b[0m\n\u001b[1;32m--> 676\u001b[1;33m         \u001b[1;32mreturn\u001b[0m \u001b[0m_read\u001b[0m\u001b[1;33m(\u001b[0m\u001b[0mfilepath_or_buffer\u001b[0m\u001b[1;33m,\u001b[0m \u001b[0mkwds\u001b[0m\u001b[1;33m)\u001b[0m\u001b[1;33m\u001b[0m\u001b[0m\n\u001b[0m\u001b[0;32m    677\u001b[0m \u001b[1;33m\u001b[0m\u001b[0m\n\u001b[0;32m    678\u001b[0m     \u001b[0mparser_f\u001b[0m\u001b[1;33m.\u001b[0m\u001b[0m__name__\u001b[0m \u001b[1;33m=\u001b[0m \u001b[0mname\u001b[0m\u001b[1;33m\u001b[0m\u001b[0m\n",
      "\u001b[1;32mD:\\python 37\\lib\\site-packages\\pandas\\io\\parsers.py\u001b[0m in \u001b[0;36m_read\u001b[1;34m(filepath_or_buffer, kwds)\u001b[0m\n\u001b[0;32m    446\u001b[0m \u001b[1;33m\u001b[0m\u001b[0m\n\u001b[0;32m    447\u001b[0m     \u001b[1;31m# Create the parser.\u001b[0m\u001b[1;33m\u001b[0m\u001b[1;33m\u001b[0m\u001b[0m\n\u001b[1;32m--> 448\u001b[1;33m     \u001b[0mparser\u001b[0m \u001b[1;33m=\u001b[0m \u001b[0mTextFileReader\u001b[0m\u001b[1;33m(\u001b[0m\u001b[0mfp_or_buf\u001b[0m\u001b[1;33m,\u001b[0m \u001b[1;33m**\u001b[0m\u001b[0mkwds\u001b[0m\u001b[1;33m)\u001b[0m\u001b[1;33m\u001b[0m\u001b[0m\n\u001b[0m\u001b[0;32m    449\u001b[0m \u001b[1;33m\u001b[0m\u001b[0m\n\u001b[0;32m    450\u001b[0m     \u001b[1;32mif\u001b[0m \u001b[0mchunksize\u001b[0m \u001b[1;32mor\u001b[0m \u001b[0miterator\u001b[0m\u001b[1;33m:\u001b[0m\u001b[1;33m\u001b[0m\u001b[0m\n",
      "\u001b[1;32mD:\\python 37\\lib\\site-packages\\pandas\\io\\parsers.py\u001b[0m in \u001b[0;36m__init__\u001b[1;34m(self, f, engine, **kwds)\u001b[0m\n\u001b[0;32m    878\u001b[0m             \u001b[0mself\u001b[0m\u001b[1;33m.\u001b[0m\u001b[0moptions\u001b[0m\u001b[1;33m[\u001b[0m\u001b[1;34m\"has_index_names\"\u001b[0m\u001b[1;33m]\u001b[0m \u001b[1;33m=\u001b[0m \u001b[0mkwds\u001b[0m\u001b[1;33m[\u001b[0m\u001b[1;34m\"has_index_names\"\u001b[0m\u001b[1;33m]\u001b[0m\u001b[1;33m\u001b[0m\u001b[0m\n\u001b[0;32m    879\u001b[0m \u001b[1;33m\u001b[0m\u001b[0m\n\u001b[1;32m--> 880\u001b[1;33m         \u001b[0mself\u001b[0m\u001b[1;33m.\u001b[0m\u001b[0m_make_engine\u001b[0m\u001b[1;33m(\u001b[0m\u001b[0mself\u001b[0m\u001b[1;33m.\u001b[0m\u001b[0mengine\u001b[0m\u001b[1;33m)\u001b[0m\u001b[1;33m\u001b[0m\u001b[0m\n\u001b[0m\u001b[0;32m    881\u001b[0m \u001b[1;33m\u001b[0m\u001b[0m\n\u001b[0;32m    882\u001b[0m     \u001b[1;32mdef\u001b[0m \u001b[0mclose\u001b[0m\u001b[1;33m(\u001b[0m\u001b[0mself\u001b[0m\u001b[1;33m)\u001b[0m\u001b[1;33m:\u001b[0m\u001b[1;33m\u001b[0m\u001b[0m\n",
      "\u001b[1;32mD:\\python 37\\lib\\site-packages\\pandas\\io\\parsers.py\u001b[0m in \u001b[0;36m_make_engine\u001b[1;34m(self, engine)\u001b[0m\n\u001b[0;32m   1112\u001b[0m     \u001b[1;32mdef\u001b[0m \u001b[0m_make_engine\u001b[0m\u001b[1;33m(\u001b[0m\u001b[0mself\u001b[0m\u001b[1;33m,\u001b[0m \u001b[0mengine\u001b[0m\u001b[1;33m=\u001b[0m\u001b[1;34m\"c\"\u001b[0m\u001b[1;33m)\u001b[0m\u001b[1;33m:\u001b[0m\u001b[1;33m\u001b[0m\u001b[0m\n\u001b[0;32m   1113\u001b[0m         \u001b[1;32mif\u001b[0m \u001b[0mengine\u001b[0m \u001b[1;33m==\u001b[0m \u001b[1;34m\"c\"\u001b[0m\u001b[1;33m:\u001b[0m\u001b[1;33m\u001b[0m\u001b[0m\n\u001b[1;32m-> 1114\u001b[1;33m             \u001b[0mself\u001b[0m\u001b[1;33m.\u001b[0m\u001b[0m_engine\u001b[0m \u001b[1;33m=\u001b[0m \u001b[0mCParserWrapper\u001b[0m\u001b[1;33m(\u001b[0m\u001b[0mself\u001b[0m\u001b[1;33m.\u001b[0m\u001b[0mf\u001b[0m\u001b[1;33m,\u001b[0m \u001b[1;33m**\u001b[0m\u001b[0mself\u001b[0m\u001b[1;33m.\u001b[0m\u001b[0moptions\u001b[0m\u001b[1;33m)\u001b[0m\u001b[1;33m\u001b[0m\u001b[0m\n\u001b[0m\u001b[0;32m   1115\u001b[0m         \u001b[1;32melse\u001b[0m\u001b[1;33m:\u001b[0m\u001b[1;33m\u001b[0m\u001b[0m\n\u001b[0;32m   1116\u001b[0m             \u001b[1;32mif\u001b[0m \u001b[0mengine\u001b[0m \u001b[1;33m==\u001b[0m \u001b[1;34m\"python\"\u001b[0m\u001b[1;33m:\u001b[0m\u001b[1;33m\u001b[0m\u001b[0m\n",
      "\u001b[1;32mD:\\python 37\\lib\\site-packages\\pandas\\io\\parsers.py\u001b[0m in \u001b[0;36m__init__\u001b[1;34m(self, src, **kwds)\u001b[0m\n\u001b[0;32m   1889\u001b[0m         \u001b[0mkwds\u001b[0m\u001b[1;33m[\u001b[0m\u001b[1;34m\"usecols\"\u001b[0m\u001b[1;33m]\u001b[0m \u001b[1;33m=\u001b[0m \u001b[0mself\u001b[0m\u001b[1;33m.\u001b[0m\u001b[0musecols\u001b[0m\u001b[1;33m\u001b[0m\u001b[0m\n\u001b[0;32m   1890\u001b[0m \u001b[1;33m\u001b[0m\u001b[0m\n\u001b[1;32m-> 1891\u001b[1;33m         \u001b[0mself\u001b[0m\u001b[1;33m.\u001b[0m\u001b[0m_reader\u001b[0m \u001b[1;33m=\u001b[0m \u001b[0mparsers\u001b[0m\u001b[1;33m.\u001b[0m\u001b[0mTextReader\u001b[0m\u001b[1;33m(\u001b[0m\u001b[0msrc\u001b[0m\u001b[1;33m,\u001b[0m \u001b[1;33m**\u001b[0m\u001b[0mkwds\u001b[0m\u001b[1;33m)\u001b[0m\u001b[1;33m\u001b[0m\u001b[0m\n\u001b[0m\u001b[0;32m   1892\u001b[0m         \u001b[0mself\u001b[0m\u001b[1;33m.\u001b[0m\u001b[0munnamed_cols\u001b[0m \u001b[1;33m=\u001b[0m \u001b[0mself\u001b[0m\u001b[1;33m.\u001b[0m\u001b[0m_reader\u001b[0m\u001b[1;33m.\u001b[0m\u001b[0munnamed_cols\u001b[0m\u001b[1;33m\u001b[0m\u001b[0m\n\u001b[0;32m   1893\u001b[0m \u001b[1;33m\u001b[0m\u001b[0m\n",
      "\u001b[1;32mpandas\\_libs\\parsers.pyx\u001b[0m in \u001b[0;36mpandas._libs.parsers.TextReader.__cinit__\u001b[1;34m()\u001b[0m\n",
      "\u001b[1;32mpandas\\_libs\\parsers.pyx\u001b[0m in \u001b[0;36mpandas._libs.parsers.TextReader._setup_parser_source\u001b[1;34m()\u001b[0m\n",
      "\u001b[1;31mFileNotFoundError\u001b[0m: [Errno 2] File gupiao.csv does not exist: 'gupiao.csv'"
     ]
    }
   ],
   "source": [
    "df = pd.read_csv('gupiao.csv')\n",
    "columns = df.columns\n",
    "print(columns)\n",
    "df = df.set_index(df['date']).drop(columns=['date'])\n"
   ]
  },
  {
   "cell_type": "markdown",
   "metadata": {},
   "source": [
    " ## 定义函数，得到rsi参数，以便后续使用"
   ]
  },
  {
   "cell_type": "code",
   "execution_count": null,
   "metadata": {},
   "outputs": [],
   "source": [
    "def cal_rsi(df0, period=6):  # 默认周期为6日\n",
    "\n",
    "    \"\"\"\n",
    "    df0为整理后的表格，\n",
    "    period为周期，默认为6。\n",
    "    \"\"\"\n",
    "\n",
    "    df0['diff'] = df0['close'] - df0['close'].shift(1)  # 用diff存储两天收盘价的差\n",
    "    df0['diff'].fillna(0, inplace=True)  # 空值填充为0\n",
    "    df0['up'] = df0['diff']  # diff赋值给up\n",
    "    df0['down'] = df0['diff']  # diff赋值给down\n",
    "    df0['up'][df0['up'] < 0] = 0  # 把up中小于0的置零\n",
    "    df0['down'][df0['down'] > 0] = 0  # 把down中大于0的置零\n",
    "    df0['avg_up'] = df0['up'].rolling(period).sum() / period  # 计算period天内平均上涨点数\n",
    "    df0['avg_down'] = abs(df0['down'].rolling(period).sum() / period)  # 计算period天内平均下降点数\n",
    "    df0['avg_up'].fillna(0, inplace=True)  # 空值填充为0\n",
    "    df0['avg_down'].fillna(0, inplace=True)  # 空值填充为0\n",
    "    df0['rsi'] = 100 - 100 / (1 + (df0['avg_up'] / df0['avg_down']))  # 计算RSI\n",
    "    return df0  # 返回原DataFrame\n"
   ]
  },
  {
   "cell_type": "code",
   "execution_count": null,
   "metadata": {},
   "outputs": [],
   "source": [
    "df = cal_rsi(df)\n",
    "df = df.dropna()\n"
   ]
  },
  {
   "cell_type": "markdown",
   "metadata": {},
   "source": [
    " ## 定义函数，得到经济学参数KDJ"
   ]
  },
  {
   "cell_type": "code",
   "execution_count": null,
   "metadata": {},
   "outputs": [],
   "source": [
    "def cal_KDJ(df):\n",
    "    import pandas as pd\n",
    "\n",
    "    df['lowest'] = df['low'].rolling(9).min()\n",
    "    df['lowest'].fillna(value=df['low'].expanding().min(), inplace=True)\n",
    "    df['highest'] = df['high'].rolling(9).max()\n",
    "    df['highest'].fillna(value=df['high'].expanding().max(), inplace=True)\n",
    "    df['RSV'] = (df['close'] - df['lowest']) / (df['highest'] - df['lowest']) * 100\n",
    "\n",
    "    df['K'] = pd.DataFrame(df['RSV']).ewm(com=2).mean()\n",
    "    df['D'] = df['K'].ewm(com=2).mean()\n",
    "    df['J'] = 3 * df['K'] - 2 * df['D']\n",
    "\n",
    "    return df\n"
   ]
  },
  {
   "cell_type": "code",
   "execution_count": null,
   "metadata": {},
   "outputs": [],
   "source": [
    "df = cal_KDJ(df)\n",
    "df = df.dropna()\n"
   ]
  },
  {
   "cell_type": "markdown",
   "metadata": {},
   "source": [
    " ## 得到样本训练集，测试集的切分"
   ]
  },
  {
   "cell_type": "code",
   "execution_count": null,
   "metadata": {},
   "outputs": [],
   "source": [
    "def get_n_train_val(df, ts=0.7, vs=0.9):\n",
    "    \"\"\"\n",
    "   获取df的长度n，\n",
    "   训练集的比例，以ts代表，默认为0.7\n",
    "   验证集的比例，以vs代表且vs>ts，默认为0.9\n",
    "   测试集的比例。\n",
    "   \"\"\"\n",
    "\n",
    "    n = len(df)\n",
    "    train_split = int(ts * n)\n",
    "    val_split = int(vs * n)\n",
    "\n",
    "    return n, train_split, val_split\n",
    "\n",
    "n, train_split, val_split = get_n_train_val(df)\n",
    "print(n, train_split, val_split)\n",
    "print(df)\n",
    "df_origin = df\n"
   ]
  },
  {
   "cell_type": "markdown",
   "metadata": {},
   "source": [
    " ## 将数据归一化操作"
   ]
  },
  {
   "cell_type": "code",
   "execution_count": null,
   "metadata": {},
   "outputs": [],
   "source": [
    "def standardization(df, train_split):\n",
    "    \"train_split为get_train_val函数中获得的训练集比例。\"\n",
    "\n",
    "    df_mean = df[:train_split].mean(axis=0)\n",
    "    df_std = df[:train_split].std(axis=0)\n",
    "    df = (df - df_mean) / df_std\n",
    "\n",
    "    df = df.values\n",
    "    target = df[:, 3]  # 这里的指close,到时根据所得数据取第二个数字\n",
    "    return df, target, df_mean, df_std\n",
    "\n",
    "df, target, df_mean, df_std= standardization(df, train_split)\n",
    "print(type(df))\n",
    "print(df.shape)\n"
   ]
  },
  {
   "cell_type": "markdown",
   "metadata": {},
   "source": [
    " ## 得到训练集样本，验证集样本，测试集样本"
   ]
  },
  {
   "cell_type": "code",
   "execution_count": null,
   "metadata": {},
   "outputs": [],
   "source": [
    "def window_generator(dataset, target, start_index,\n",
    "                     end_index, history_size, target_size):\n",
    "    \"\"\"\n",
    "    dataset为df，target为先前选择的需要预测的值,\n",
    "    start_index为开始时间，end_index为结束时间,\n",
    "    history_size为过去几天长度，target_size为需要预测的天数的长度。\n",
    "    \"\"\"\n",
    "    import pandas as pd\n",
    "    import numpy as np\n",
    "\n",
    "    features = []\n",
    "    labels = []\n",
    "\n",
    "    if end_index is None:\n",
    "        end_index = len(dataset) - target_size\n",
    "\n",
    "    start_index += history_size\n",
    "\n",
    "    for i in range(start_index, end_index):\n",
    "        indices = range(i - history_size, i)\n",
    "        features.append(dataset[indices])\n",
    "        labels.append(target[i:i + target_size])\n",
    "\n",
    "    return np.array(features), np.array(labels)\n",
    "\n",
    "\n",
    "def data_processing(df, n, train_split, val_split, target, history_size=5):\n",
    "    \"\"\"\n",
    "    df标准化后的表格，\n",
    "    n为get_train_val函数中获得的df的长度，\n",
    "    train_split为get_train_val函数中获得的训练集比例，\n",
    "    val_split为get_train_val函数中获得的验证集比例，\n",
    "    target为standardization函数中获得的预测目标，\n",
    "    history_size决定以过去几天的数据为基础来预测，默认为5天。\n",
    "    \"\"\"\n",
    "    import tensorflow as tf\n",
    "    import pandas as pd\n",
    "\n",
    "    # 以一天数据预测未来数据的特征和标签定义\n",
    "    X_train_single, y_train_single = window_generator(dataset=df, target=target, start_index=0,\n",
    "                                                      end_index=train_split, history_size=1, target_size=1)\n",
    "\n",
    "    X_val_single, y_val_single = window_generator(dataset=df, target=target, start_index=train_split,\n",
    "                                                  end_index=val_split, history_size=1, target_size=1)\n",
    "\n",
    "    X_test_single, y_test_single = window_generator(dataset=df, target=target, start_index=val_split,\n",
    "                                                    end_index=n - 1, history_size=1, target_size=1)\n",
    "\n",
    "    # 以histroy_size天数据预测未来数据的特征和标签定义\n",
    "    X_train_multi, y_train_multi = window_generator(dataset=df, target=target, start_index=0,\n",
    "                                                    end_index=train_split, history_size=history_size, target_size=1)\n",
    "\n",
    "    X_val_multi, y_val_multi = window_generator(dataset=df, target=target, start_index=train_split,\n",
    "                                                end_index=val_split, history_size=history_size, target_size=1)\n",
    "\n",
    "    X_test_multi, y_test_multi = window_generator(dataset=df, target=target, start_index=val_split,\n",
    "                                                  end_index=n - history_size, history_size=history_size, target_size=1)\n",
    "\n",
    "    ##########\n",
    "    BUFFER_SIZE = 2000\n",
    "    BATCH_SIZE = 100\n",
    "    ##########\n",
    "\n",
    "    # 将特征与标签配对\n",
    "    train_single = tf.data.Dataset.from_tensor_slices((X_train_single, y_train_single))\n",
    "    val_single = tf.data.Dataset.from_tensor_slices((X_val_single, y_val_single))\n",
    "\n",
    "    train_multi = tf.data.Dataset.from_tensor_slices((X_train_multi, y_train_multi))\n",
    "    val_multi = tf.data.Dataset.from_tensor_slices((X_val_multi, y_val_multi))\n",
    "\n",
    "    # 数据增强\n",
    "    train_single = train_single.cache().shuffle(BUFFER_SIZE).batch(BATCH_SIZE).repeat()\n",
    "    val_single = val_single.cache().batch(BATCH_SIZE).repeat()\n",
    "\n",
    "    train_multi = train_multi.cache().shuffle(BUFFER_SIZE).batch(BATCH_SIZE).repeat()\n",
    "    val_multi = val_multi.cache().batch(BATCH_SIZE).repeat()\n",
    "\n",
    "    return train_single, val_single, train_multi, val_multi, X_test_single, y_test_single, X_test_multi, y_test_multi\n",
    "\n",
    "\n",
    "train_single, val_single, train_multi, val_multi, X_test_single, y_test_single, X_test_multi, y_test_multi = data_processing(\n",
    "    df, n, train_split, val_split, target, history_size=5)\n",
    "print('分割线---------------------------------------------------------')\n",
    "print(train_single, val_single, train_multi, val_multi)\n"
   ]
  },
  {
   "cell_type": "markdown",
   "metadata": {},
   "source": [
    " ## 定义神经网络参数，构建神经网络类"
   ]
  },
  {
   "cell_type": "code",
   "execution_count": null,
   "metadata": {},
   "outputs": [],
   "source": [
    "class lstm_Model(tf.keras.Model):\n",
    "    # nums_of_dense表示每层的神经元\n",
    "    def __init__(self, nums_of_lstm=32, nums_of_dense1=3, nums_of_dense2=1):\n",
    "        super().__init__()\n",
    "        self.lstm = tf.keras.layers.LSTM(nums_of_lstm, return_sequences=False)\n",
    "        self.dense1 = tf.keras.layers.Dense(nums_of_dense1, activation='relu')\n",
    "        self.dense2 = tf.keras.layers.Dense(nums_of_dense2)\n",
    "\n",
    "    def call(self, inputs):\n",
    "        z = self.lstm(inputs)\n",
    "        z = self.dense1(z)\n",
    "        z = self.dense2(z)\n",
    "        return z\n",
    "\n",
    "lstm = lstm_Model(32, 4, 1)\n"
   ]
  },
  {
   "cell_type": "markdown",
   "metadata": {},
   "source": [
    " ## 构建神经网络运行所需要的损失曲线函数和拟合预测函数"
   ]
  },
  {
   "cell_type": "code",
   "execution_count": null,
   "metadata": {},
   "outputs": [],
   "source": [
    "def loss_curve(history):\n",
    "    \"绘制损失曲线,history为compile_and_fit训练之后的模型\"\n",
    "\n",
    "    import matplotlib.pyplot as plt\n",
    "\n",
    "    loss = history.history['loss']\n",
    "    val_loss = history.history['val_loss']\n",
    "\n",
    "    epochs = range(len(loss))\n",
    "\n",
    "    plt.figure()\n",
    "\n",
    "    plt.plot(epochs, loss, 'b', label='Training Loss')\n",
    "    plt.plot(epochs, val_loss, 'r', label='Validation Loss')\n",
    "    plt.title('Training and Validation Loss')\n",
    "    plt.legend()\n",
    "    plt.show()\n",
    "\n",
    "\n",
    "def compile_and_fit(model, train_data, val_data, patience=10):\n",
    "    \"\"\"\n",
    "    model是之前选择的模型，\n",
    "    train_data是之前训练用的输入，如train_single,\n",
    "    val_data是之前测试用的输入，如val_single。\n",
    "    \"\"\"\n",
    "    #############\n",
    "    EPOCHS = 100\n",
    "    EVALUATION_INTERNAL = 120\n",
    "    #############\n",
    "\n",
    "    early_stopping = tf.keras.callbacks.EarlyStopping(\n",
    "        monitor='val_loss',\n",
    "        verbose=1,\n",
    "        patience=patience,\n",
    "        mode='auto',\n",
    "        restore_best_weights=True)\n",
    "\n",
    "    model.compile(optimizer=tf.keras.optimizers.RMSprop(clipvalue=1.0),\n",
    "                  loss='mae')\n",
    "\n",
    "    history = model.fit(train_data, epochs=EPOCHS,\n",
    "                        steps_per_epoch=EVALUATION_INTERNAL,\n",
    "                        validation_steps=50,\n",
    "                        validation_data=val_data,\n",
    "                        callbacks=[early_stopping])\n",
    "    return history\n",
    "\n",
    "lstm_history = compile_and_fit(lstm, train_multi, val_multi)\n",
    "\n",
    "loss_curve(lstm_history)\n"
   ]
  },
  {
   "cell_type": "markdown",
   "metadata": {},
   "source": [
    " ## 完成神经网络的预测并绘制图形"
   ]
  },
  {
   "cell_type": "code",
   "execution_count": null,
   "metadata": {},
   "outputs": [],
   "source": [
    "lstm_results = lstm.predict(X_test_multi)\n",
    "\n",
    "fig = plt.figure(figsize=(15, 8))\n",
    "ax = plt.subplot2grid((3, 3), (0, 0), rowspan=3, colspan=3)\n",
    "ax.xaxis.set_major_locator(mticker.MaxNLocator(10))\n",
    "\n",
    "plt.plot(y_test_multi, label='oringin')\n",
    "plt.plot(lstm_results, label='lstm')\n",
    "plt.legend()\n",
    "\n",
    "plt.show()\n"
   ]
  },
  {
   "cell_type": "markdown",
   "metadata": {},
   "source": [
    " ## 将得到的神经网络预测，之前的rsi，KDJ等参数与原有的表绘制于一张新表中"
   ]
  },
  {
   "cell_type": "code",
   "execution_count": null,
   "metadata": {},
   "outputs": [],
   "source": [
    "lstm = np.full((len(df), 1), np.nan)\n",
    "for i in range(len(df)-len(lstm_results), len(df)):\n",
    "    lstm[i] = lstm_results[i - len(df) + len(lstm_results)] * df_std[3] +df_mean[3]\n",
    "print(len(lstm))\n",
    "print(len(df_origin))\n",
    "data = pd.DataFrame(lstm, columns=['predict'])\n",
    "data.index = df_origin.index\n",
    "data = pd.concat([df_origin, data], axis=1)\n",
    "data.to_csv('new.csv')"
   ]
  },
  {
   "cell_type": "code",
   "execution_count": 1,
   "metadata": {},
   "outputs": [],
   "source": []
  }
 ],
 "metadata": {
  "kernelspec": {
   "display_name": "Python 3",
   "language": "python",
   "name": "python3"
  },
  "language_info": {
   "codemirror_mode": {
    "name": "ipython",
    "version": 3
   },
   "file_extension": ".py",
   "mimetype": "text/x-python",
   "name": "python",
   "nbconvert_exporter": "python",
   "pygments_lexer": "ipython3",
   "version": "3.7.6"
  }
 },
 "nbformat": 4,
 "nbformat_minor": 2
}
